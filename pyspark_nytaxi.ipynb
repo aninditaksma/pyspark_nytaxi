{
  "nbformat": 4,
  "nbformat_minor": 0,
  "metadata": {
    "colab": {
      "provenance": []
    },
    "kernelspec": {
      "name": "python3",
      "display_name": "Python 3"
    },
    "language_info": {
      "name": "python"
    }
  },
  "cells": [
    {
      "cell_type": "code",
      "source": [
        "pip install pyspark"
      ],
      "metadata": {
        "colab": {
          "base_uri": "https://localhost:8080/"
        },
        "id": "1vHNCA5by_RK",
        "outputId": "8d035273-534b-4053-8d77-ffdcdd64a039"
      },
      "execution_count": 2,
      "outputs": [
        {
          "output_type": "stream",
          "name": "stdout",
          "text": [
            "Looking in indexes: https://pypi.org/simple, https://us-python.pkg.dev/colab-wheels/public/simple/\n",
            "Collecting pyspark\n",
            "  Downloading pyspark-3.3.1.tar.gz (281.4 MB)\n",
            "\u001b[K     |████████████████████████████████| 281.4 MB 36 kB/s \n",
            "\u001b[?25hCollecting py4j==0.10.9.5\n",
            "  Downloading py4j-0.10.9.5-py2.py3-none-any.whl (199 kB)\n",
            "\u001b[K     |████████████████████████████████| 199 kB 51.1 MB/s \n",
            "\u001b[?25hBuilding wheels for collected packages: pyspark\n",
            "  Building wheel for pyspark (setup.py) ... \u001b[?25l\u001b[?25hdone\n",
            "  Created wheel for pyspark: filename=pyspark-3.3.1-py2.py3-none-any.whl size=281845512 sha256=976f75ea7b4d2bcce7ebf1302256d9ab9b7d659091a1d20ae5d884a219d3cac0\n",
            "  Stored in directory: /root/.cache/pip/wheels/43/dc/11/ec201cd671da62fa9c5cc77078235e40722170ceba231d7598\n",
            "Successfully built pyspark\n",
            "Installing collected packages: py4j, pyspark\n",
            "Successfully installed py4j-0.10.9.5 pyspark-3.3.1\n"
          ]
        }
      ]
    },
    {
      "cell_type": "code",
      "execution_count": 3,
      "metadata": {
        "id": "8DwzxD7qys_n"
      },
      "outputs": [],
      "source": [
        "import pyspark\n",
        "from pyspark.sql import SparkSession"
      ]
    },
    {
      "cell_type": "code",
      "source": [
        "spark = SparkSession.builder.appName(\"asg\").getOrCreate()"
      ],
      "metadata": {
        "id": "y9p7G7d5-Uqy"
      },
      "execution_count": 4,
      "outputs": []
    },
    {
      "cell_type": "code",
      "source": [
        "import pandas as pd"
      ],
      "metadata": {
        "id": "DTRiCFRh6JwC"
      },
      "execution_count": 5,
      "outputs": []
    },
    {
      "cell_type": "code",
      "source": [
        "!wget https://d37ci6vzurychx.cloudfront.net/trip-data/yellow_tripdata_2021-02.parquet"
      ],
      "metadata": {
        "colab": {
          "base_uri": "https://localhost:8080/"
        },
        "id": "I7lTcDdj856s",
        "outputId": "0a808d03-ea1b-45fd-b432-7a81c02a9ce7"
      },
      "execution_count": 6,
      "outputs": [
        {
          "output_type": "stream",
          "name": "stdout",
          "text": [
            "--2022-12-13 12:58:15--  https://d37ci6vzurychx.cloudfront.net/trip-data/yellow_tripdata_2021-02.parquet\n",
            "Resolving d37ci6vzurychx.cloudfront.net (d37ci6vzurychx.cloudfront.net)... 13.225.141.158, 13.225.141.98, 13.225.141.105, ...\n",
            "Connecting to d37ci6vzurychx.cloudfront.net (d37ci6vzurychx.cloudfront.net)|13.225.141.158|:443... connected.\n",
            "HTTP request sent, awaiting response... 200 OK\n",
            "Length: 21777258 (21M) [application/x-www-form-urlencoded]\n",
            "Saving to: ‘yellow_tripdata_2021-02.parquet’\n",
            "\n",
            "yellow_tripdata_202 100%[===================>]  20.77M  27.5MB/s    in 0.8s    \n",
            "\n",
            "2022-12-13 12:58:16 (27.5 MB/s) - ‘yellow_tripdata_2021-02.parquet’ saved [21777258/21777258]\n",
            "\n"
          ]
        }
      ]
    },
    {
      "cell_type": "code",
      "source": [
        "!wget https://d37ci6vzurychx.cloudfront.net/trip-data/fhv_tripdata_2021-02.parquet"
      ],
      "metadata": {
        "colab": {
          "base_uri": "https://localhost:8080/"
        },
        "id": "BDvpWAML2BR3",
        "outputId": "fe6d46ac-37f6-452e-c1bd-dcf021acdbd7"
      },
      "execution_count": 63,
      "outputs": [
        {
          "output_type": "stream",
          "name": "stdout",
          "text": [
            "--2022-12-13 14:16:42--  https://d37ci6vzurychx.cloudfront.net/trip-data/fhv_tripdata_2021-02.parquet\n",
            "Resolving d37ci6vzurychx.cloudfront.net (d37ci6vzurychx.cloudfront.net)... 52.85.39.97, 52.85.39.65, 52.85.39.117, ...\n",
            "Connecting to d37ci6vzurychx.cloudfront.net (d37ci6vzurychx.cloudfront.net)|52.85.39.97|:443... connected.\n",
            "HTTP request sent, awaiting response... 200 OK\n",
            "Length: 10645466 (10M) [binary/octet-stream]\n",
            "Saving to: ‘fhv_tripdata_2021-02.parquet’\n",
            "\n",
            "fhv_tripdata_2021-0 100%[===================>]  10.15M  45.1MB/s    in 0.2s    \n",
            "\n",
            "2022-12-13 14:16:43 (45.1 MB/s) - ‘fhv_tripdata_2021-02.parquet’ saved [10645466/10645466]\n",
            "\n"
          ]
        }
      ]
    },
    {
      "cell_type": "code",
      "source": [
        "df = spark.read \\\n",
        "     .option(\"header\", \"true\") \\\n",
        "     .parquet(\"/content/yellow_tripdata_2021-02.parquet\")"
      ],
      "metadata": {
        "id": "EmtXtIXB9jEn"
      },
      "execution_count": 7,
      "outputs": []
    },
    {
      "cell_type": "code",
      "source": [
        "df2 = spark.read \\\n",
        "     .option(\"header\", \"true\") \\\n",
        "     .parquet(\"fhv_tripdata_2021-02.parquet\")"
      ],
      "metadata": {
        "id": "gesOkW692Hef"
      },
      "execution_count": 64,
      "outputs": []
    },
    {
      "cell_type": "code",
      "source": [
        "df.createOrReplaceTempView('taxitrips')"
      ],
      "metadata": {
        "id": "lnOJhsz1_2vp"
      },
      "execution_count": 10,
      "outputs": []
    },
    {
      "cell_type": "code",
      "source": [
        "df.show()"
      ],
      "metadata": {
        "colab": {
          "base_uri": "https://localhost:8080/"
        },
        "id": "pgkYmc4P91A2",
        "outputId": "23d86bb0-c654-49ab-e168-94916cf07e4d"
      },
      "execution_count": 9,
      "outputs": [
        {
          "output_type": "stream",
          "name": "stdout",
          "text": [
            "+--------+--------------------+---------------------+---------------+-------------+----------+------------------+------------+------------+------------+-----------+-----+-------+----------+------------+---------------------+------------+--------------------+-----------+\n",
            "|VendorID|tpep_pickup_datetime|tpep_dropoff_datetime|passenger_count|trip_distance|RatecodeID|store_and_fwd_flag|PULocationID|DOLocationID|payment_type|fare_amount|extra|mta_tax|tip_amount|tolls_amount|improvement_surcharge|total_amount|congestion_surcharge|airport_fee|\n",
            "+--------+--------------------+---------------------+---------------+-------------+----------+------------------+------------+------------+------------+-----------+-----+-------+----------+------------+---------------------+------------+--------------------+-----------+\n",
            "|       1| 2021-02-01 00:40:47|  2021-02-01 00:48:28|            1.0|          2.3|       1.0|                 N|         141|         226|           2|        8.5|  3.0|    0.5|       0.0|         0.0|                  0.3|        12.3|                 2.5|       null|\n",
            "|       1| 2021-02-01 00:07:44|  2021-02-01 00:20:31|            1.0|          1.6|       1.0|                 N|          43|         263|           2|        9.5|  3.0|    0.5|       0.0|         0.0|                  0.3|        13.3|                 0.0|       null|\n",
            "|       1| 2021-02-01 00:59:36|  2021-02-01 01:24:13|            1.0|          5.3|       1.0|                 N|         114|         263|           2|       19.0|  3.0|    0.5|       0.0|         0.0|                  0.3|        22.8|                 2.5|       null|\n",
            "|       2| 2021-02-01 00:03:26|  2021-02-01 00:16:32|            1.0|         2.79|       1.0|                 N|         236|         229|           1|       11.0|  0.5|    0.5|      2.96|         0.0|                  0.3|       17.76|                 2.5|       null|\n",
            "|       2| 2021-02-01 00:20:20|  2021-02-01 00:24:03|            2.0|         0.64|       1.0|                 N|         229|         140|           1|        4.5|  0.5|    0.5|      1.66|         0.0|                  0.3|        9.96|                 2.5|       null|\n",
            "|       2| 2021-02-01 00:55:03|  2021-02-01 01:03:39|            1.0|         1.97|       1.0|                 N|         238|          75|           1|        8.5|  0.5|    0.5|      1.96|         0.0|                  0.3|       11.76|                 0.0|       null|\n",
            "|       1| 2021-02-01 00:09:22|  2021-02-01 00:53:48|            1.0|         26.6|       1.0|                 N|         132|         200|           1|       69.0|  0.5|    0.5|       0.0|        6.12|                  0.3|       76.42|                 0.0|       null|\n",
            "|       2| 2021-02-01 00:52:15|  2021-02-01 01:16:24|            4.0|         6.07|       1.0|                 N|         249|         181|           1|       21.0|  0.5|    0.5|       6.2|         0.0|                  0.3|        31.0|                 2.5|       null|\n",
            "|       1| 2021-02-01 00:08:29|  2021-02-01 00:21:22|            1.0|          2.0|       1.0|                 N|          79|         246|           1|        9.0|  3.0|    0.5|       3.2|         0.0|                  0.3|        16.0|                 2.5|       null|\n",
            "|       1| 2021-02-01 00:28:13|  2021-02-01 00:31:40|            1.0|          0.8|       1.0|                 Y|          75|          74|           2|        5.0|  0.5|    0.5|       0.0|         0.0|                  0.3|         6.3|                 0.0|       null|\n",
            "|       1| 2021-02-01 00:17:42|  2021-02-01 00:28:23|            1.0|          2.1|       1.0|                 N|          74|          24|           2|        9.0|  0.5|    0.5|       0.0|         0.0|                  0.3|        10.3|                 0.0|       null|\n",
            "|       1| 2021-02-01 00:25:10|  2021-02-01 00:25:38|            1.0|          0.0|       1.0|                 N|         113|         113|           4|        2.5|  3.0|    0.5|       0.0|         0.0|                  0.3|         6.3|                 2.5|       null|\n",
            "|       1| 2021-02-01 00:23:48|  2021-02-01 00:34:59|            1.0|          2.8|       1.0|                 N|          90|         229|           1|       11.0|  3.0|    0.5|       3.7|         0.0|                  0.3|        18.5|                 2.5|       null|\n",
            "|       2| 2021-02-01 00:18:31|  2021-02-01 00:46:45|            1.0|         8.08|       1.0|                 N|          75|          88|           1|       26.5|  0.5|    0.5|      6.06|         0.0|                  0.3|       36.36|                 2.5|       null|\n",
            "|       2| 2021-02-01 00:33:38|  2021-02-01 00:55:59|            2.0|         6.41|       1.0|                 N|         132|         122|           2|       21.0|  0.5|    0.5|       0.0|         0.0|                  0.3|        22.3|                 0.0|       null|\n",
            "|       2| 2021-02-01 00:34:13|  2021-02-01 00:42:13|            1.0|         1.53|       1.0|                 N|         170|          48|           2|        7.5|  0.5|    0.5|       0.0|         0.0|                  0.3|        11.3|                 2.5|       null|\n",
            "|       1| 2021-02-01 00:33:17|  2021-02-01 00:33:17|            1.0|          0.0|       5.0|                 Y|         260|         264|           2|        0.0|  0.0|    0.0|       0.0|         0.0|                  0.0|         0.0|                 0.0|       null|\n",
            "|       2| 2021-02-01 00:17:53|  2021-02-01 00:30:23|            1.0|         2.72|       1.0|                 N|         142|          90|           1|       11.0|  0.5|    0.5|      2.96|         0.0|                  0.3|       17.76|                 2.5|       null|\n",
            "|       2| 2021-02-01 00:38:17|  2021-02-01 00:46:53|            1.0|         1.72|       1.0|                 N|          68|         249|           1|        7.5|  0.5|    0.5|      2.26|         0.0|                  0.3|       13.56|                 2.5|       null|\n",
            "|       2| 2021-02-01 00:06:33|  2021-02-01 00:13:56|            1.0|         2.42|       1.0|                 N|          79|         256|           4|       -9.0| -0.5|   -0.5|       0.0|         0.0|                 -0.3|       -12.8|                -2.5|       null|\n",
            "+--------+--------------------+---------------------+---------------+-------------+----------+------------------+------------+------------+------------+-----------+-----+-------+----------+------------+---------------------+------------+--------------------+-----------+\n",
            "only showing top 20 rows\n",
            "\n"
          ]
        }
      ]
    },
    {
      "cell_type": "code",
      "source": [
        "df2.show()"
      ],
      "metadata": {
        "colab": {
          "base_uri": "https://localhost:8080/"
        },
        "id": "GEI0H3_iMQWD",
        "outputId": "df3f5d70-5490-4ac4-b7ac-56d67f7b9f48"
      },
      "execution_count": 123,
      "outputs": [
        {
          "output_type": "stream",
          "name": "stdout",
          "text": [
            "+--------------------+-------------------+-------------------+------------+------------+-------+----------------------+\n",
            "|dispatching_base_num|    pickup_datetime|   dropOff_datetime|PUlocationID|DOlocationID|SR_Flag|Affiliated_base_number|\n",
            "+--------------------+-------------------+-------------------+------------+------------+-------+----------------------+\n",
            "|              B00013|2021-02-01 00:01:00|2021-02-01 01:33:00|        null|        null|   null|                B00014|\n",
            "|     B00021         |2021-02-01 00:55:40|2021-02-01 01:06:20|       173.0|        82.0|   null|       B00021         |\n",
            "|     B00021         |2021-02-01 00:14:03|2021-02-01 00:28:37|       173.0|        56.0|   null|       B00021         |\n",
            "|     B00021         |2021-02-01 00:27:48|2021-02-01 00:35:45|        82.0|       129.0|   null|       B00021         |\n",
            "|              B00037|2021-02-01 00:12:50|2021-02-01 00:26:38|        null|       225.0|   null|                B00037|\n",
            "|              B00037|2021-02-01 00:00:37|2021-02-01 00:09:35|        null|        61.0|   null|                B00037|\n",
            "|              B00112|2021-02-01 00:30:25|2021-02-01 00:57:23|        null|        26.0|   null|                B00112|\n",
            "|              B00149|2021-02-01 00:43:16|2021-02-01 01:03:16|        null|        72.0|   null|                B00149|\n",
            "|              B00221|2021-02-01 00:20:45|2021-02-01 00:21:15|        null|       244.0|   null|                B00221|\n",
            "|              B00225|2021-02-01 00:23:27|2021-02-01 00:55:46|        null|       169.0|   null|                B00225|\n",
            "|              B00225|2021-02-01 00:10:38|2021-02-01 00:50:15|        null|       161.0|   null|                B02872|\n",
            "|              B00254|2021-02-01 00:05:46|2021-02-01 00:40:41|        13.0|       182.0|   null|                B00254|\n",
            "|              B00254|2021-02-01 00:14:25|2021-02-01 00:24:56|       152.0|       244.0|   null|                B02872|\n",
            "|              B00256|2021-02-01 00:30:43|2021-02-01 01:32:39|        null|        null|   null|                B00256|\n",
            "|              B00256|2021-02-01 00:39:11|2021-02-01 01:18:44|        null|        null|   null|                B00256|\n",
            "|              B00256|2021-02-01 00:33:24|2021-02-01 01:23:44|        null|        null|   null|                B00256|\n",
            "|              B00256|2021-02-01 00:05:19|2021-02-01 00:24:40|        null|        null|   null|                B00256|\n",
            "|              B00271|2021-02-01 00:04:07|2021-02-01 01:03:03|        null|       265.0|   null|                B00271|\n",
            "|              B00271|2021-02-01 00:07:13|2021-02-01 00:08:49|        null|       237.0|   null|                B00271|\n",
            "|              B00310|2021-02-01 00:11:21|2021-02-01 00:15:44|        null|       248.0|   null|                B00310|\n",
            "+--------------------+-------------------+-------------------+------------+------------+-------+----------------------+\n",
            "only showing top 20 rows\n",
            "\n"
          ]
        }
      ]
    },
    {
      "cell_type": "code",
      "source": [
        "df2.createOrReplaceTempView('fhv')"
      ],
      "metadata": {
        "id": "aSowxOje2fNm"
      },
      "execution_count": 65,
      "outputs": []
    },
    {
      "cell_type": "markdown",
      "source": [
        "### Question 1. How many taxi trips were there on February 15?"
      ],
      "metadata": {
        "id": "qxqub4KLzDOa"
      }
    },
    {
      "cell_type": "code",
      "source": [
        "fifteentrips=spark.sql('SELECT to_date(tpep_pickup_datetime) AS date, COUNT(tpep_pickup_datetime) AS count_trips FROM taxitrips WHERE dayofmonth(tpep_pickup_datetime) = 15 GROUP BY date')\n",
        "fifteentrips.show()"
      ],
      "metadata": {
        "colab": {
          "base_uri": "https://localhost:8080/"
        },
        "id": "kwwXplvlAFBh",
        "outputId": "b87fdad2-b0bd-486e-a892-6087bb882aee"
      },
      "execution_count": 42,
      "outputs": [
        {
          "output_type": "stream",
          "name": "stdout",
          "text": [
            "+----------+-----------+\n",
            "|      date|count_trips|\n",
            "+----------+-----------+\n",
            "|2021-02-15|      40322|\n",
            "+----------+-----------+\n",
            "\n"
          ]
        }
      ]
    },
    {
      "cell_type": "markdown",
      "source": [
        "###Question 2. Find the longest trip for each day?"
      ],
      "metadata": {
        "id": "2kByZgJuz_iy"
      }
    },
    {
      "cell_type": "code",
      "source": [
        "triptime = spark.sql('SELECT day_of_month, MAX(trip_time_in_sec) AS max_trip_time_in_sec FROM (SELECT dayofmonth(tpep_pickup_datetime) AS day_of_month, (hour(tpep_pickup_datetime)*3600) + (minute(tpep_pickup_datetime)*60) + (second(tpep_pickup_datetime)) AS trip_time_in_sec FROM taxitrips) GROUP BY day_of_month ORDER BY day_of_month')\n",
        "triptime.show()"
      ],
      "metadata": {
        "colab": {
          "base_uri": "https://localhost:8080/"
        },
        "id": "6kEFtezfDp7X",
        "outputId": "0b8142e0-9f7b-4e8a-a182-15773c34d058"
      },
      "execution_count": 62,
      "outputs": [
        {
          "output_type": "stream",
          "name": "stdout",
          "text": [
            "+------------+--------------------+\n",
            "|day_of_month|max_trip_time_in_sec|\n",
            "+------------+--------------------+\n",
            "|           1|               86377|\n",
            "|           2|               86376|\n",
            "|           3|               86395|\n",
            "|           4|               86397|\n",
            "|           5|               86396|\n",
            "|           6|               86399|\n",
            "|           7|               86398|\n",
            "|           8|               86391|\n",
            "|           9|               86397|\n",
            "|          10|               86399|\n",
            "|          11|               86391|\n",
            "|          12|               86399|\n",
            "|          13|               86396|\n",
            "|          14|               86396|\n",
            "|          15|               86398|\n",
            "|          16|               86387|\n",
            "|          17|               86388|\n",
            "|          18|               86397|\n",
            "|          19|               86399|\n",
            "|          20|               86393|\n",
            "+------------+--------------------+\n",
            "only showing top 20 rows\n",
            "\n"
          ]
        }
      ]
    },
    {
      "cell_type": "markdown",
      "source": [
        "###Question 3. Find Top 5 Most frequent `dispatching_base_num`?"
      ],
      "metadata": {
        "id": "NKNl0U5e0Ieo"
      }
    },
    {
      "cell_type": "code",
      "source": [
        "dispatching = spark.sql('SELECT dispatching_base_num, COUNT(dispatching_base_num) AS count_dispatching_base_num FROM fhv GROUP BY dispatching_base_num ORDER BY count_dispatching_base_num DESC LIMIT 5')\n",
        "dispatching.show()"
      ],
      "metadata": {
        "colab": {
          "base_uri": "https://localhost:8080/"
        },
        "id": "gnGK93KT0R48",
        "outputId": "91fc0d60-3e33-4643-e2c4-2f2573d01771"
      },
      "execution_count": 74,
      "outputs": [
        {
          "output_type": "stream",
          "name": "stdout",
          "text": [
            "+--------------------+--------------------------+\n",
            "|dispatching_base_num|count_dispatching_base_num|\n",
            "+--------------------+--------------------------+\n",
            "|              B00856|                     35077|\n",
            "|              B01312|                     33089|\n",
            "|              B01145|                     31114|\n",
            "|              B02794|                     30397|\n",
            "|              B03016|                     29794|\n",
            "+--------------------+--------------------------+\n",
            "\n"
          ]
        }
      ]
    },
    {
      "cell_type": "markdown",
      "source": [
        "### Question 4. Find Top 5 Most common location pairs (PUlocationID and DOlocationID)"
      ],
      "metadata": {
        "id": "H5QiNrdG4tE3"
      }
    },
    {
      "cell_type": "code",
      "source": [
        "location = spark.sql('SELECT PUlocationID, DOlocationID FROM(SELECT PUlocationID, DOlocationID, COUNT(PUlocationID) as count_PU, COUNT(PUlocationID) AS count_DO FROM fhv GROUP BY PUlocationID, DOlocationID ORDER BY count_PU DESC, count_DO DESC) LIMIT 5')\n",
        "location.show()"
      ],
      "metadata": {
        "colab": {
          "base_uri": "https://localhost:8080/"
        },
        "id": "u1Ga73_14-BQ",
        "outputId": "eac4c67c-4f0d-4702-b989-fb5a1c955a98"
      },
      "execution_count": 137,
      "outputs": [
        {
          "output_type": "stream",
          "name": "stdout",
          "text": [
            "+------------+------------+\n",
            "|PUlocationID|DOlocationID|\n",
            "+------------+------------+\n",
            "|       123.0|        null|\n",
            "|       206.0|       206.0|\n",
            "|       221.0|       206.0|\n",
            "|       129.0|       129.0|\n",
            "|         7.0|         7.0|\n",
            "+------------+------------+\n",
            "\n"
          ]
        }
      ]
    }
  ]
}